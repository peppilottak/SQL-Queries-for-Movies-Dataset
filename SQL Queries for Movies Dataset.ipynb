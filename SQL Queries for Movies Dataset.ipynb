{
 "cells": [
  {
   "cell_type": "code",
   "execution_count": 1,
   "id": "3253a901-3bc7-4dc8-8cb8-ab7b1966432e",
   "metadata": {},
   "outputs": [
    {
     "name": "stdout",
     "output_type": "stream",
     "text": [
      "Requirement already satisfied: kaggle in c:\\users\\peppi\\anaconda3\\lib\\site-packages (1.6.17)Note: you may need to restart the kernel to use updated packages.\n",
      "\n",
      "Requirement already satisfied: six>=1.10 in c:\\users\\peppi\\anaconda3\\lib\\site-packages (from kaggle) (1.16.0)\n",
      "Requirement already satisfied: certifi>=2023.7.22 in c:\\users\\peppi\\anaconda3\\lib\\site-packages (from kaggle) (2024.8.30)\n",
      "Requirement already satisfied: python-dateutil in c:\\users\\peppi\\anaconda3\\lib\\site-packages (from kaggle) (2.9.0.post0)\n",
      "Requirement already satisfied: requests in c:\\users\\peppi\\anaconda3\\lib\\site-packages (from kaggle) (2.32.2)\n",
      "Requirement already satisfied: tqdm in c:\\users\\peppi\\anaconda3\\lib\\site-packages (from kaggle) (4.66.4)\n",
      "Requirement already satisfied: python-slugify in c:\\users\\peppi\\anaconda3\\lib\\site-packages (from kaggle) (5.0.2)\n",
      "Requirement already satisfied: urllib3 in c:\\users\\peppi\\anaconda3\\lib\\site-packages (from kaggle) (2.2.2)\n",
      "Requirement already satisfied: bleach in c:\\users\\peppi\\anaconda3\\lib\\site-packages (from kaggle) (4.1.0)\n",
      "Requirement already satisfied: packaging in c:\\users\\peppi\\anaconda3\\lib\\site-packages (from bleach->kaggle) (23.2)\n",
      "Requirement already satisfied: webencodings in c:\\users\\peppi\\anaconda3\\lib\\site-packages (from bleach->kaggle) (0.5.1)\n",
      "Requirement already satisfied: text-unidecode>=1.3 in c:\\users\\peppi\\anaconda3\\lib\\site-packages (from python-slugify->kaggle) (1.3)\n",
      "Requirement already satisfied: charset-normalizer<4,>=2 in c:\\users\\peppi\\anaconda3\\lib\\site-packages (from requests->kaggle) (2.0.4)\n",
      "Requirement already satisfied: idna<4,>=2.5 in c:\\users\\peppi\\anaconda3\\lib\\site-packages (from requests->kaggle) (3.7)\n",
      "Requirement already satisfied: colorama in c:\\users\\peppi\\anaconda3\\lib\\site-packages (from tqdm->kaggle) (0.4.6)\n"
     ]
    }
   ],
   "source": [
    "pip install kaggle"
   ]
  },
  {
   "cell_type": "code",
   "execution_count": 2,
   "id": "5a7022b1-5d10-468c-9c39-210004fb054d",
   "metadata": {},
   "outputs": [],
   "source": [
    "# import libarys\n",
    "import sqlite3\n",
    "import os\n",
    "import zipfile\n",
    "import pandas as pd"
   ]
  },
  {
   "cell_type": "code",
   "execution_count": 3,
   "id": "884aeac4-5acd-47d4-9885-214b1d53ffad",
   "metadata": {},
   "outputs": [
    {
     "name": "stdout",
     "output_type": "stream",
     "text": [
      "Dataset URL: https://www.kaggle.com/datasets/tmdb/tmdb-movie-metadata\n",
      "License(s): other\n",
      "tmdb-movie-metadata.zip: Skipping, found more recently modified local copy (use --force to force download)\n"
     ]
    }
   ],
   "source": [
    "# download the dataset from Kaggle\n",
    "!kaggle datasets download -d tmdb/tmdb-movie-metadata"
   ]
  },
  {
   "cell_type": "code",
   "execution_count": 4,
   "id": "e5f453b7-27cf-49af-88d8-627871c40ed1",
   "metadata": {},
   "outputs": [],
   "source": [
    "# extract the dataset\n",
    "with zipfile.ZipFile(\"tmdb-movie-metadata.zip\", 'r') as zip_ref:\n",
    "    zip_ref.extractall(\"tmdb_data\")"
   ]
  },
  {
   "cell_type": "code",
   "execution_count": 5,
   "id": "e89fd6d6-bb3a-46e3-9582-8e3dc6012ba0",
   "metadata": {},
   "outputs": [],
   "source": [
    "# load the dataset into a DataFrame\n",
    "df = pd.read_csv(\"tmdb_data/tmdb_5000_movies.csv\")"
   ]
  },
  {
   "cell_type": "code",
   "execution_count": 6,
   "id": "42d01e86-1cc5-4829-8d22-00b9908b1b2c",
   "metadata": {},
   "outputs": [
    {
     "name": "stdout",
     "output_type": "stream",
     "text": [
      "Columns in the dataset:\n",
      "Index(['budget', 'genres', 'homepage', 'id', 'keywords', 'original_language',\n",
      "       'original_title', 'overview', 'popularity', 'production_companies',\n",
      "       'production_countries', 'release_date', 'revenue', 'runtime',\n",
      "       'spoken_languages', 'status', 'tagline', 'title', 'vote_average',\n",
      "       'vote_count'],\n",
      "      dtype='object')\n"
     ]
    }
   ],
   "source": [
    "# dataset columns in this dataset\n",
    "print(\"Columns in the dataset:\")\n",
    "print(df.columns)"
   ]
  },
  {
   "cell_type": "code",
   "execution_count": 7,
   "id": "affb768d-2acb-47da-8f79-9731048dd4e8",
   "metadata": {},
   "outputs": [],
   "source": [
    "# create SQLite database\n",
    "conn = sqlite3.connect('movies.db')"
   ]
  },
  {
   "cell_type": "code",
   "execution_count": 8,
   "id": "19547e1b-983f-4ce6-ae1a-804c1f3b7dc7",
   "metadata": {},
   "outputs": [
    {
     "data": {
      "text/plain": [
       "4803"
      ]
     },
     "execution_count": 8,
     "metadata": {},
     "output_type": "execute_result"
    }
   ],
   "source": [
    "# load data into database\n",
    "df.to_sql('movies', conn, if_exists='replace', index=False)"
   ]
  },
  {
   "cell_type": "code",
   "execution_count": 9,
   "id": "68aed5ab-03a6-4f60-a0dd-b3ffa192d6da",
   "metadata": {},
   "outputs": [
    {
     "name": "stdout",
     "output_type": "stream",
     "text": [
      "\n",
      "Query 1: Find the top 5 movies by revenue\n",
      "            title     revenue\n",
      "0          Avatar  2787965087\n",
      "1         Titanic  1845034188\n",
      "2    The Avengers  1519557910\n",
      "3  Jurassic World  1513528810\n",
      "4       Furious 7  1506249360\n"
     ]
    }
   ],
   "source": [
    "# top 5 Movies by revenue\n",
    "print(\"\\nQuery 1: Find the top 5 movies by revenue\")\n",
    "query_1 = \"\"\"\n",
    "SELECT title, revenue\n",
    "FROM movies\n",
    "ORDER BY revenue DESC\n",
    "LIMIT 5\n",
    "\"\"\"\n",
    "\n",
    "result_1 = pd.read_sql_query(query_1, conn)\n",
    "print(result_1)"
   ]
  },
  {
   "cell_type": "code",
   "execution_count": 10,
   "id": "22e3a184-159d-4f15-99f4-0b2b68a91b20",
   "metadata": {},
   "outputs": [
    {
     "name": "stdout",
     "output_type": "stream",
     "text": [
      "\n",
      "Query 2: Calculate the average revenue per genre\n",
      "                                                 genres   avg_revenue\n",
      "0     [{\"id\": 10751, \"name\": \"Family\"}, {\"id\": 14, \"...  1.025491e+09\n",
      "1     [{\"id\": 18, \"name\": \"Drama\"}, {\"id\": 28, \"name...  1.004558e+09\n",
      "2     [{\"id\": 10751, \"name\": \"Family\"}, {\"id\": 12, \"...  9.665506e+08\n",
      "3     [{\"id\": 12, \"name\": \"Adventure\"}, {\"id\": 14, \"...  9.382127e+08\n",
      "4     [{\"id\": 16, \"name\": \"Animation\"}, {\"id\": 35, \"...  8.772448e+08\n",
      "...                                                 ...           ...\n",
      "1170  [{\"id\": 10749, \"name\": \"Romance\"}, {\"id\": 18, ...  0.000000e+00\n",
      "1171  [{\"id\": 10749, \"name\": \"Romance\"}, {\"id\": 12, ...  0.000000e+00\n",
      "1172  [{\"id\": 10402, \"name\": \"Music\"}, {\"id\": 35, \"n...  0.000000e+00\n",
      "1173  [{\"id\": 10402, \"name\": \"Music\"}, {\"id\": 35, \"n...  0.000000e+00\n",
      "1174  [{\"id\": 10402, \"name\": \"Music\"}, {\"id\": 27, \"n...  0.000000e+00\n",
      "\n",
      "[1175 rows x 2 columns]\n"
     ]
    }
   ],
   "source": [
    "# analyze by average revenue per genre\n",
    "print(\"\\nQuery 2: Calculate the average revenue per genre\")\n",
    "query_2 = \"\"\"\n",
    "SELECT genres, AVG(revenue) AS avg_revenue\n",
    "FROM movies\n",
    "GROUP BY genres\n",
    "ORDER BY avg_revenue DESC\n",
    "\"\"\"\n",
    "result_2 = pd.read_sql_query(query_2, conn)\n",
    "print(result_2)"
   ]
  },
  {
   "cell_type": "code",
   "execution_count": 11,
   "id": "8cde2340-03fc-4619-a415-e6337771a5b0",
   "metadata": {},
   "outputs": [
    {
     "name": "stdout",
     "output_type": "stream",
     "text": [
      "\n",
      "Query 3: Identify the year with the most successful movies (by revenue)\n",
      "  release_date  total_revenue\n",
      "0   2012-07-16    24141710246\n"
     ]
    }
   ],
   "source": [
    "# year with the most successful movies, based on revenue\n",
    "print(\"\\nQuery 3: Identify the year with the most successful movies (by revenue)\")\n",
    "query_3 = \"\"\"\n",
    "SELECT release_date, SUM(revenue) AS total_revenue\n",
    "FROM movies\n",
    "GROUP BY SUBSTR(release_date, 1, 4) -- Extract year from release_date\n",
    "ORDER BY total_revenue DESC\n",
    "LIMIT 1\n",
    "\"\"\"\n",
    "result_3 = pd.read_sql_query(query_3, conn)\n",
    "print(result_3)"
   ]
  },
  {
   "cell_type": "code",
   "execution_count": 12,
   "id": "6ad8d10c-1e55-4a62-ac6c-e0e48224b608",
   "metadata": {},
   "outputs": [
    {
     "name": "stdout",
     "output_type": "stream",
     "text": [
      "\n",
      "Query 5: Calculate the average rating per genre\n",
      "                                                 genres  avg_rating\n",
      "0     [{\"id\": 37, \"name\": \"Western\"}, {\"id\": 28, \"na...         9.3\n",
      "1     [{\"id\": 18, \"name\": \"Drama\"}, {\"id\": 28, \"name...         8.2\n",
      "2     [{\"id\": 14, \"name\": \"Fantasy\"}, {\"id\": 18, \"na...         8.2\n",
      "3     [{\"id\": 14, \"name\": \"Fantasy\"}, {\"id\": 16, \"na...         8.2\n",
      "4     [{\"id\": 12, \"name\": \"Adventure\"}, {\"id\": 14, \"...         8.2\n",
      "...                                                 ...         ...\n",
      "1170  [{\"id\": 28, \"name\": \"Action\"}, {\"id\": 80, \"nam...         2.0\n",
      "1171  [{\"id\": 28, \"name\": \"Action\"}, {\"id\": 35, \"nam...         1.0\n",
      "1172  [{\"id\": 53, \"name\": \"Thriller\"}, {\"id\": 35, \"n...         0.0\n",
      "1173  [{\"id\": 53, \"name\": \"Thriller\"}, {\"id\": 27, \"n...         0.0\n",
      "1174  [{\"id\": 28, \"name\": \"Action\"}, {\"id\": 35, \"nam...         0.0\n",
      "\n",
      "[1175 rows x 2 columns]\n"
     ]
    }
   ],
   "source": [
    "# calculate the average rating per genre\n",
    "print(\"\\nQuery 5: Calculate the average rating per genre\")\n",
    "query_5 = \"\"\"\n",
    "SELECT genres, AVG(vote_average) AS avg_rating\n",
    "FROM movies\n",
    "GROUP BY genres\n",
    "ORDER BY avg_rating DESC\n",
    "\"\"\"\n",
    "result_5 = pd.read_sql_query(query_5, conn)\n",
    "print(result_5)"
   ]
  },
  {
   "cell_type": "code",
   "execution_count": 13,
   "id": "3d3f5ab5-db89-490b-87e0-7dbd1572aa0a",
   "metadata": {},
   "outputs": [
    {
     "name": "stdout",
     "output_type": "stream",
     "text": [
      "\n",
      "Query 7: Correlation analysis between budget and revenue\n",
      "Correlation analysis:\n",
      "           budget   revenue\n",
      "budget   1.000000  0.705399\n",
      "revenue  0.705399  1.000000\n"
     ]
    }
   ],
   "source": [
    "# correlation calcultaions: budget vs. revenue\n",
    "print(\"\\nQuery 7: Correlation analysis between budget and revenue\")\n",
    "query_7 = \"\"\"\n",
    "SELECT budget, revenue\n",
    "FROM movies\n",
    "WHERE budget > 0 AND revenue > 0\n",
    "\"\"\"\n",
    "result_7 = pd.read_sql_query(query_7, conn)\n",
    "print(\"Correlation analysis:\")\n",
    "correlation = result_7.corr() \n",
    "print(correlation)"
   ]
  },
  {
   "cell_type": "code",
   "execution_count": 14,
   "id": "e1568d11-7745-47ef-b7bb-dc757f331c73",
   "metadata": {},
   "outputs": [],
   "source": [
    "conn.close()"
   ]
  }
 ],
 "metadata": {
  "kernelspec": {
   "display_name": "Python 3 (ipykernel)",
   "language": "python",
   "name": "python3"
  },
  "language_info": {
   "codemirror_mode": {
    "name": "ipython",
    "version": 3
   },
   "file_extension": ".py",
   "mimetype": "text/x-python",
   "name": "python",
   "nbconvert_exporter": "python",
   "pygments_lexer": "ipython3",
   "version": "3.12.4"
  }
 },
 "nbformat": 4,
 "nbformat_minor": 5
}
